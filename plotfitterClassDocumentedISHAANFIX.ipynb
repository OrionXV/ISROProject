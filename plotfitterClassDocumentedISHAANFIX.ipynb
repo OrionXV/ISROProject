{
  "cells": [
    {
      "cell_type": "markdown",
      "metadata": {
        "id": "view-in-github",
        "colab_type": "text"
      },
      "source": [
        "<a href=\"https://colab.research.google.com/github/OrionXV/WeirdProject/blob/Ishaan/plotfitterClassDocumentedISHAANFIX.ipynb\" target=\"_parent\"><img src=\"https://colab.research.google.com/assets/colab-badge.svg\" alt=\"Open In Colab\"/></a>"
      ]
    },
    {
      "cell_type": "code",
      "source": [
        "#Dependencies\n",
        "import astropy.convolution.convolve as conv\n",
        "from astropy.convolution import Box1DKernel as box1d\n",
        "from astropy.convolution import Gaussian1DKernel as g1d\n",
        "from astropy.table import Table\n",
        "import pandas as pd\n",
        "from matplotlib.pyplot import figure\n",
        "from scipy.signal import find_peaks\n",
        "from scipy.signal import peak_widths\n",
        "import math \n",
        "from scipy.optimize import curve_fit\n",
        "import matplotlib.pyplot as plt \n",
        "import numpy as np \n",
        "from scipy.optimize import leastsq\n",
        "from scipy.special import erf\n",
        "%config InLineBackend.figure_format = 'retina'\n",
        "\n",
        "class Curve_Fitter():\n",
        "    #data_path to initialize the dataframe which we will work on. Only required parameter.\n",
        "    def __init__(self, data_path, convo_size = 60):\n",
        "        self.data_raw = Table.read(data_path).to_pandas()\n",
        "        self.data = self.convolve(self.data_raw, convo_size)#we will use convolved data for most of our purposes\n",
        "        self.peak_list,_=find_peaks(self.data['RATE'], height= 50,distance=60)  \n",
        "        self.width=peak_widths(self.data['RATE'],self.peak_list,rel_height=0.97)\n",
        "        self.start=self.width[2].astype(int)\n",
        "        self.stop=self.width[3].astype(int)\n",
        "        self.bdraw,self.bdata=self.bgdata()\n",
        "        self.std=self.datastd()\n",
        "        self.newcurve=self.peak_fitter()\n",
        "        \n",
        "        \n",
        "        \n",
        "                  \n",
        "\n",
        "    #function to convovle the data, returns a new dataframe\n",
        "    def convolve(self, data, width):\n",
        "        data2 = data.copy()\n",
        "        data2['RATE'] = conv(np.array(data['RATE']), kernel = g1d(width), boundary = 'extend')\n",
        "        return data2\n",
        "    \n",
        "    #MATHS AHEAD\n",
        "    #Z = (2*B + (C**2)*D)/(2*C)\n",
        "    #Just a temp function so we don't have to write the expression again and again\n",
        "    def z_func(self, B, C, D):\n",
        "        return (2*B + (C**2)*D)/(2*C)\n",
        "    \n",
        "    #Our objective function, we will fit our curve over this\n",
        "    def objective_func(self, T, A, B, C, D, E, F):\n",
        "        return math.sqrt(np.pi*0.5)*A*C*np.exp(D/2*((2*B)+(C**2)*(D/2)-(2*(T*E+ F))))*(erf(self.z_func(B, C, D))- erf(self.z_func(B, C, D) - (T*E+ F)/C))\n",
        "\n",
        "    #Defining the cost function. We will use sqrt(chi) for our calculations   \n",
        "    def objective_cost_func(self, params, x, y):\n",
        "        a0, b0, c0, d0, e0, f0 = params[0], params[1], params[2], params[3], params[4], params[5]\n",
        "        return np.sqrt(((y - self.objective_func(x, a0, b0, c0, d0, e0, f0))**2)/y)\n",
        "\n",
        "    #Sclaing functions\n",
        "    def min_max_scaler(self, df):\n",
        "        df['RATESCALED'] = (df['RATE']- df['RATE'].min())/(df['RATE'].max()- df['RATE'].min())\n",
        "        df['TIMESCALED'] = (df['TIME']- df['TIME'].min())/(df['TIME'].max()- df['TIME'].min())*2\n",
        "\n",
        "    def rev_scaler(self, df, x):\n",
        "        return x*(df['RATE'].max()- df['RATE'].min()) + df['RATE'].min()\n",
        "    \n",
        "   \n",
        "    def bgdata(self):\n",
        "        c=self.data.copy()\n",
        "        remove=[]\n",
        "        for i in range(len(self.start)):\n",
        "          remove+=np.arange(self.start[i],self.stop[i],1).tolist()\n",
        "        remove=list(set(remove))\n",
        "        rawbg=self.data_raw.drop(remove)\n",
        "        return rawbg,np.mean(c.drop(remove)['RATE'])\n",
        "    \n",
        "    def datastd(self):\n",
        "        zerodata=self.bdraw['RATE']-self.bdata\n",
        "        return np.std(zerodata)\n",
        "  \n",
        "\n",
        "    def peak_fitter(self):\n",
        "        self.min_max_scaler(self.data)\n",
        "        peak_data_list = []\n",
        "        peak_df_list = []\n",
        "        input=[]\n",
        "        scaledcurve=[]\n",
        "        newcurve=[]\n",
        "        \n",
        "        for i in range(len(self.peak_list)):\n",
        "\n",
        "            TIME = self.data['TIME'][self.start[i]:self.stop[i]] - self.data['TIME'][self.start[i]] #Some scaling\n",
        "            RATE = self.data['RATESCALED'][self.start[i]:self.stop[i]]\n",
        "\n",
        "            params = [0.2, 0.3, 0.3, 0.4, 0.1, 0.1] #Rando params \n",
        "\n",
        "            resultsq = leastsq(self.objective_cost_func, params, (TIME, RATE))\n",
        "            a, b, c, d, e, f = resultsq[0][0], resultsq[0][1], resultsq[0][2], resultsq[0][3], resultsq[0][4], resultsq[0][5]\n",
        "            input_time=np.arange(-10000,list(TIME)[-1]+10000,1)\n",
        "            new_curve=self.objective_func(input_time, a, b, c, d, e, f)\n",
        "            input=(self.data['TIME'][self.start[i]]+input_time)\n",
        "            scaledcurve=(self.rev_scaler(self.data, new_curve))\n",
        "            newcurve.append(pd.DataFrame({'TIME':input,'RATE':scaledcurve}))\n",
        "        return newcurve\n",
        "\n",
        "  \n",
        "    def startidx(self):\n",
        "      start=[]\n",
        "      end=[]\n",
        "      for i in range(len(self.peak_list)):\n",
        "        sloc=self.newcurve[i][self.newcurve[i]['RATE']>=self.bdata+self.std].index.tolist()[0]\n",
        "        eloc=self.newcurve[i][self.newcurve[i]['RATE']>=self.bdata+self.std].index.tolist()[-1]\n",
        "        start.append(self.newcurve[i]['TIME'][sloc])\n",
        "        end.append(self.newcurve[i]['TIME'][eloc])\n",
        "      return start,end\n",
        "\n",
        "\n",
        "    def params(self):\n",
        "      start,end=self.startidx()\n",
        "\n",
        "      df=pd.DataFrame(columns=['decay_time','rise_time','peak_flux'])\n",
        "      for i in range(len(self.peak_list)):\n",
        "        df=df.append({'decay_time':end[i]-self.data['TIME'][self.peak_list[i]],\n",
        "                   'rise_time':self.data['TIME'][self.peak_list[i]]-start[i],\n",
        "                    'peak_flux':self.data['RATE'][self.peak_list[i]]},ignore_index=True)\n",
        "      return df\n",
        "   \n",
        "\n",
        "\n",
        "\n",
        "\n",
        "    #Plots our data, if you have already called fitter, then pass the params in here. \n",
        "    \n",
        "            "
      ],
      "metadata": {
        "id": "I27b8pLNKkAd"
      },
      "execution_count": 58,
      "outputs": []
    },
    {
      "cell_type": "code",
      "source": [
        "!wget --load-cookies /tmp/cookies.txt \"https://docs.google.com/uc?export=download&confirm=$(wget --quiet --save-cookies /tmp/cookies.txt --keep-session-cookies --no-check-certificate 'https://docs.google.com/uc?export=download&id=1bRy8RDtWz5hbOn888XHSO3QToUAYCctS' -O- | sed -rn 's/.*confirm=([0-9A-Za-z_]+).*/\\1\\n/p')&id=1bRy8RDtWz5hbOn888XHSO3QToUAYCctS\" -O lc.zip && rm -rf /tmp/cookies.txt"
      ],
      "metadata": {
        "id": "N16aBhZBnYcm",
        "colab": {
          "base_uri": "https://localhost:8080/"
        },
        "outputId": "d544f871-9913-4e00-e1a4-2f10fa6bd9d9"
      },
      "execution_count": 5,
      "outputs": [
        {
          "output_type": "stream",
          "name": "stdout",
          "text": [
            "--2022-03-15 18:30:40--  https://docs.google.com/uc?export=download&confirm=t&id=1bRy8RDtWz5hbOn888XHSO3QToUAYCctS\n",
            "Resolving docs.google.com (docs.google.com)... 142.250.73.238, 2607:f8b0:4004:82a::200e\n",
            "Connecting to docs.google.com (docs.google.com)|142.250.73.238|:443... connected.\n",
            "HTTP request sent, awaiting response... 303 See Other\n",
            "Location: https://doc-14-a0-docs.googleusercontent.com/docs/securesc/ha0ro937gcuc7l7deffksulhg5h7mbp1/mqftf3q9njo6hk33dld95un0g4htsk40/1647369000000/04989237414475792611/*/1bRy8RDtWz5hbOn888XHSO3QToUAYCctS?e=download [following]\n",
            "Warning: wildcards not supported in HTTP.\n",
            "--2022-03-15 18:30:40--  https://doc-14-a0-docs.googleusercontent.com/docs/securesc/ha0ro937gcuc7l7deffksulhg5h7mbp1/mqftf3q9njo6hk33dld95un0g4htsk40/1647369000000/04989237414475792611/*/1bRy8RDtWz5hbOn888XHSO3QToUAYCctS?e=download\n",
            "Resolving doc-14-a0-docs.googleusercontent.com (doc-14-a0-docs.googleusercontent.com)... 172.217.1.193, 2607:f8b0:4004:801::2001\n",
            "Connecting to doc-14-a0-docs.googleusercontent.com (doc-14-a0-docs.googleusercontent.com)|172.217.1.193|:443... connected.\n",
            "HTTP request sent, awaiting response... 200 OK\n",
            "Length: 33466656 (32M) [application/zip]\n",
            "Saving to: ‘lc.zip’\n",
            "\n",
            "lc.zip              100%[===================>]  31.92M  18.3MB/s    in 1.7s    \n",
            "\n",
            "2022-03-15 18:30:43 (18.3 MB/s) - ‘lc.zip’ saved [33466656/33466656]\n",
            "\n"
          ]
        }
      ]
    },
    {
      "cell_type": "code",
      "source": [
        "!unzip -q lc.zip"
      ],
      "metadata": {
        "id": "nCrIRF7qqEgt"
      },
      "execution_count": 6,
      "outputs": []
    },
    {
      "cell_type": "code",
      "source": [
        "\n",
        "file = Curve_Fitter(data_path = '/content/lc/ch2_xsm_20200409_v1_level2.lc')"
      ],
      "metadata": {
        "id": "4u-OkBdxqGnE",
        "colab": {
          "base_uri": "https://localhost:8080/"
        },
        "outputId": "1d4d4dc9-54de-42c6-dd31-43e9d5e9d734"
      },
      "execution_count": 59,
      "outputs": [
        {
          "output_type": "stream",
          "name": "stderr",
          "text": [
            "/usr/local/lib/python3.7/dist-packages/pandas/core/arraylike.py:364: RuntimeWarning: overflow encountered in exp\n",
            "  result = getattr(ufunc, method)(*inputs, **kwargs)\n",
            "/usr/local/lib/python3.7/dist-packages/scipy/optimize/minpack.py:454: RuntimeWarning: Number of calls to function has reached maxfev = 1400.\n",
            "  warnings.warn(errors[info][0], RuntimeWarning)\n"
          ]
        }
      ]
    },
    {
      "cell_type": "code",
      "source": [
        "p=file.params()"
      ],
      "metadata": {
        "id": "1YuDzAoqQ-8w"
      },
      "execution_count": 60,
      "outputs": []
    },
    {
      "cell_type": "code",
      "source": [
        "p"
      ],
      "metadata": {
        "colab": {
          "base_uri": "https://localhost:8080/",
          "height": 174
        },
        "id": "qbATZPzK33RZ",
        "outputId": "8ee3abf0-437c-47d8-d90a-0b27bad5da64"
      },
      "execution_count": 61,
      "outputs": [
        {
          "output_type": "execute_result",
          "data": {
            "text/plain": [
              "   decay_time  rise_time   peak_flux\n",
              "0      1285.0      282.0   57.992809\n",
              "1      5634.0      471.0  274.894531\n",
              "2     10866.0     2366.0  313.795746\n",
              "3       925.0      698.0   57.301216"
            ],
            "text/html": [
              "\n",
              "  <div id=\"df-c3f63cbd-b38d-417e-ac97-2ce8d0c29f19\">\n",
              "    <div class=\"colab-df-container\">\n",
              "      <div>\n",
              "<style scoped>\n",
              "    .dataframe tbody tr th:only-of-type {\n",
              "        vertical-align: middle;\n",
              "    }\n",
              "\n",
              "    .dataframe tbody tr th {\n",
              "        vertical-align: top;\n",
              "    }\n",
              "\n",
              "    .dataframe thead th {\n",
              "        text-align: right;\n",
              "    }\n",
              "</style>\n",
              "<table border=\"1\" class=\"dataframe\">\n",
              "  <thead>\n",
              "    <tr style=\"text-align: right;\">\n",
              "      <th></th>\n",
              "      <th>decay_time</th>\n",
              "      <th>rise_time</th>\n",
              "      <th>peak_flux</th>\n",
              "    </tr>\n",
              "  </thead>\n",
              "  <tbody>\n",
              "    <tr>\n",
              "      <th>0</th>\n",
              "      <td>1285.0</td>\n",
              "      <td>282.0</td>\n",
              "      <td>57.992809</td>\n",
              "    </tr>\n",
              "    <tr>\n",
              "      <th>1</th>\n",
              "      <td>5634.0</td>\n",
              "      <td>471.0</td>\n",
              "      <td>274.894531</td>\n",
              "    </tr>\n",
              "    <tr>\n",
              "      <th>2</th>\n",
              "      <td>10866.0</td>\n",
              "      <td>2366.0</td>\n",
              "      <td>313.795746</td>\n",
              "    </tr>\n",
              "    <tr>\n",
              "      <th>3</th>\n",
              "      <td>925.0</td>\n",
              "      <td>698.0</td>\n",
              "      <td>57.301216</td>\n",
              "    </tr>\n",
              "  </tbody>\n",
              "</table>\n",
              "</div>\n",
              "      <button class=\"colab-df-convert\" onclick=\"convertToInteractive('df-c3f63cbd-b38d-417e-ac97-2ce8d0c29f19')\"\n",
              "              title=\"Convert this dataframe to an interactive table.\"\n",
              "              style=\"display:none;\">\n",
              "        \n",
              "  <svg xmlns=\"http://www.w3.org/2000/svg\" height=\"24px\"viewBox=\"0 0 24 24\"\n",
              "       width=\"24px\">\n",
              "    <path d=\"M0 0h24v24H0V0z\" fill=\"none\"/>\n",
              "    <path d=\"M18.56 5.44l.94 2.06.94-2.06 2.06-.94-2.06-.94-.94-2.06-.94 2.06-2.06.94zm-11 1L8.5 8.5l.94-2.06 2.06-.94-2.06-.94L8.5 2.5l-.94 2.06-2.06.94zm10 10l.94 2.06.94-2.06 2.06-.94-2.06-.94-.94-2.06-.94 2.06-2.06.94z\"/><path d=\"M17.41 7.96l-1.37-1.37c-.4-.4-.92-.59-1.43-.59-.52 0-1.04.2-1.43.59L10.3 9.45l-7.72 7.72c-.78.78-.78 2.05 0 2.83L4 21.41c.39.39.9.59 1.41.59.51 0 1.02-.2 1.41-.59l7.78-7.78 2.81-2.81c.8-.78.8-2.07 0-2.86zM5.41 20L4 18.59l7.72-7.72 1.47 1.35L5.41 20z\"/>\n",
              "  </svg>\n",
              "      </button>\n",
              "      \n",
              "  <style>\n",
              "    .colab-df-container {\n",
              "      display:flex;\n",
              "      flex-wrap:wrap;\n",
              "      gap: 12px;\n",
              "    }\n",
              "\n",
              "    .colab-df-convert {\n",
              "      background-color: #E8F0FE;\n",
              "      border: none;\n",
              "      border-radius: 50%;\n",
              "      cursor: pointer;\n",
              "      display: none;\n",
              "      fill: #1967D2;\n",
              "      height: 32px;\n",
              "      padding: 0 0 0 0;\n",
              "      width: 32px;\n",
              "    }\n",
              "\n",
              "    .colab-df-convert:hover {\n",
              "      background-color: #E2EBFA;\n",
              "      box-shadow: 0px 1px 2px rgba(60, 64, 67, 0.3), 0px 1px 3px 1px rgba(60, 64, 67, 0.15);\n",
              "      fill: #174EA6;\n",
              "    }\n",
              "\n",
              "    [theme=dark] .colab-df-convert {\n",
              "      background-color: #3B4455;\n",
              "      fill: #D2E3FC;\n",
              "    }\n",
              "\n",
              "    [theme=dark] .colab-df-convert:hover {\n",
              "      background-color: #434B5C;\n",
              "      box-shadow: 0px 1px 3px 1px rgba(0, 0, 0, 0.15);\n",
              "      filter: drop-shadow(0px 1px 2px rgba(0, 0, 0, 0.3));\n",
              "      fill: #FFFFFF;\n",
              "    }\n",
              "  </style>\n",
              "\n",
              "      <script>\n",
              "        const buttonEl =\n",
              "          document.querySelector('#df-c3f63cbd-b38d-417e-ac97-2ce8d0c29f19 button.colab-df-convert');\n",
              "        buttonEl.style.display =\n",
              "          google.colab.kernel.accessAllowed ? 'block' : 'none';\n",
              "\n",
              "        async function convertToInteractive(key) {\n",
              "          const element = document.querySelector('#df-c3f63cbd-b38d-417e-ac97-2ce8d0c29f19');\n",
              "          const dataTable =\n",
              "            await google.colab.kernel.invokeFunction('convertToInteractive',\n",
              "                                                     [key], {});\n",
              "          if (!dataTable) return;\n",
              "\n",
              "          const docLinkHtml = 'Like what you see? Visit the ' +\n",
              "            '<a target=\"_blank\" href=https://colab.research.google.com/notebooks/data_table.ipynb>data table notebook</a>'\n",
              "            + ' to learn more about interactive tables.';\n",
              "          element.innerHTML = '';\n",
              "          dataTable['output_type'] = 'display_data';\n",
              "          await google.colab.output.renderOutput(dataTable, element);\n",
              "          const docLink = document.createElement('div');\n",
              "          docLink.innerHTML = docLinkHtml;\n",
              "          element.appendChild(docLink);\n",
              "        }\n",
              "      </script>\n",
              "    </div>\n",
              "  </div>\n",
              "  "
            ]
          },
          "metadata": {},
          "execution_count": 61
        }
      ]
    },
    {
      "cell_type": "code",
      "source": [
        "plt.figure(figsize=(20,8))\n",
        "plt.plot(file.data_raw['TIME'],file.data_raw['RATE'])\n",
        "\n",
        "plt.axhline(file.bdata,color='r')\n",
        "plt.axhline(file.bdata+file.std,color='g')\n",
        "#lt.plot(file.input[1],file.scaledcurve[1],color='red')\n",
        "#lt.plot(file.input[2],file.scaledcurve[2],color='cyan')\n",
        "plt.axvline(p[1][1])\n"
      ],
      "metadata": {
        "colab": {
          "base_uri": "https://localhost:8080/",
          "height": 448
        },
        "id": "JaTcCM7zIqVg",
        "outputId": "a95fe370-9bf6-48da-af6c-07ea15206816"
      },
      "execution_count": 18,
      "outputs": [
        {
          "output_type": "execute_result",
          "data": {
            "text/plain": [
              "<matplotlib.lines.Line2D at 0x7f3fde8d6b90>"
            ]
          },
          "metadata": {},
          "execution_count": 18
        },
        {
          "output_type": "display_data",
          "data": {
            "text/plain": [
              "<Figure size 1440x576 with 1 Axes>"
            ],
            "image/png": "[encoded data removed]"
          },
          "metadata": {
            "needs_background": "light"
          }
        }
      ]
    }
  ],
  "metadata": {
    "colab": {
      "name": "plotfitter.ipynb",
      "provenance": [],
      "collapsed_sections": [],
      "include_colab_link": true
    },
    "kernelspec": {
      "display_name": "Python 3",
      "name": "python3"
    },
    "language_info": {
      "name": "python"
    }
  },
  "nbformat": 4,
  "nbformat_minor": 0
}