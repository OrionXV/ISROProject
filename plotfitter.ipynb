{
  "cells": [
    {
      "cell_type": "markdown",
      "metadata": {
        "id": "view-in-github",
        "colab_type": "text"
      },
      "source": [
        "<a href=\"https://colab.research.google.com/github/OrionXV/ISROProject/blob/main/plotfitter.ipynb\" target=\"_parent\"><img src=\"https://colab.research.google.com/assets/colab-badge.svg\" alt=\"Open In Colab\"/></a>"
      ]
    },
    {
      "cell_type": "code",
      "source": [
        "import math \n",
        "from scipy.optimize import curve_fit\n",
        "import matplotlib.pyplot as plt \n",
        "import numpy as np \n",
        "from scipy.optimize import leastsq\n",
        "from scipy.special import erf\n",
        "%config InLineBackend.figure_format = 'retina'\n",
        "\n",
        "def z_func(B, C, D):\n",
        "    return (2*B + (C**2)*D)/(2*C)\n",
        "\n",
        "def objective_func(T, A, B, C, D, E, F):\n",
        "    #return A*T**4 + B*T**3 + C*T**2 + D*T + E\n",
        "    return math.sqrt(np.pi*0.5)*A*C*np.exp(D/2*((2*B)+(C**2)*(D/2)-(2*(T*E+ F))))*(erf(z_func(B, C, D))- erf(z_func(B, C, D) - (T*E+ F)/C))\n",
        "    #return A*np.exp(-(T-B)**2/(2*C**2))+np.exp(-D*T)\n",
        "    \n",
        "def objective_cost_func(params, x, y):\n",
        "    a0, b0, c0, d0, e0, f0 = params[0], params[1], params[2], params[3], params[4], params[5]\n",
        "    return np.sqrt(((y - objective_func(x, a0, b0, c0, d0, e0, f0))**2)/y)\n",
        "    \n",
        "\n",
        "\n",
        "def min_max_scaler(df):\n",
        "    df['RATESCALED'] = (df['RATE']- df['RATE'].min())/(df['RATE'].max()- df['RATE'].min())\n",
        "    df['TIMESCALED'] = (df['TIME']- df['TIME'].min())/(df['TIME'].max()- df['TIME'].min())*2\n",
        "\n",
        "def rev_scaler(df, x):\n",
        "    return x*(df['RATE'].max()- df['RATE'].min()) + df['RATE'].min()"
      ],
      "metadata": {
        "id": "oHbTN921KueE"
      },
      "execution_count": null,
      "outputs": []
    },
    {
      "cell_type": "code",
      "source": [
        "from scipy.signal import find_peaks\n",
        "\n",
        "def tolerence_func(r, mid, start, stop):\n",
        "    if mid - start < 0:\n",
        "        start = 0\n",
        "    else:\n",
        "        start = mid - start\n",
        "    if mid + stop > r:\n",
        "        stop = r\n",
        "    else:\n",
        "        stop = mid + stop\n",
        "    return start, stop\n",
        "\n",
        "def peak_fitter(df, ratio = 1.8):\n",
        "    peak_list, _ = find_peaks(df['RATE'], distance= df['RATE'].median()*1.10)\n",
        "    min_max_scaler(df)\n",
        "    #df['FIT'] = None\n",
        "    peak_data_list = []\n",
        "    for peak in peak_list:\n",
        "        t1 = df['RATE'][peak]*2.747\n",
        "        t2 = t1*ratio \n",
        "        start, stop = tolerence_func(len(df), peak, int(t1), int(t2))\n",
        "        TIME = df['TIMESCALED'][start:stop]\n",
        "        RATE = df['RATESCALED'][start:stop]\n",
        "\n",
        "        params = [0.2, 0.3, 0.3, 0.4, 0.1, 0.1]\n",
        "\n",
        "        resultsq = leastsq(objective_cost_func, params, (TIME, RATE))\n",
        "        a, b, c, d, e, f = resultsq[0][0], resultsq[0][1], resultsq[0][2], resultsq[0][3], resultsq[0][4], resultsq[0][5]\n",
        "\n",
        "\n",
        "        new_curve = objective_func(TIME, a, b, c, d, e, f)\n",
        "\n",
        "        peak_dic = {\n",
        "            'start' : start,\n",
        "            'stop' : stop,\n",
        "            'rate_curve' : new_curve,\n",
        "            'rate_curve_scaled' : rev_scaler(df, new_curve)\n",
        "            'curve_params' : [a, b, c, d, e, f]\n",
        "        }\n",
        "\n",
        "        #df['FIT'][start:stop] = new_curve\n",
        "        peak_data_list.append(peak_dic)\n",
        "    \n",
        "    #plt.plot(df['TIME'], df['TRUEFIT'])\n",
        "    return peak_data_list"
      ],
      "metadata": {
        "id": "_PBPeF0NE5ix"
      },
      "execution_count": null,
      "outputs": []
    },
    {
      "cell_type": "code",
      "source": [
        "def peak_data_plotter(df, peak_list):\n",
        "    plt.plot(df['TIME'], df['RATE'])\n",
        "    for peak in peak_list:\n",
        "        plt.plot(df['TIME'][peak.get('start', 0):peak.get('stop', 0)], peak.get('rate_curve_scaled'))\n"
      ],
      "metadata": {
        "id": "xSf6l7XGIdUV"
      },
      "execution_count": null,
      "outputs": []
    }
  ],
  "metadata": {
    "colab": {
      "name": "plotfitter.ipynb",
      "provenance": [],
      "collapsed_sections": [],
      "authorship_tag": "ABX9TyPypi5AUiZaanJw5fhOBM/M",
      "include_colab_link": true
    },
    "kernelspec": {
      "display_name": "Python 3",
      "name": "python3"
    },
    "language_info": {
      "name": "python"
    }
  },
  "nbformat": 4,
  "nbformat_minor": 0
}