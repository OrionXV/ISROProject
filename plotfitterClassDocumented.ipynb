{
  "cells": [
    {
      "cell_type": "markdown",
      "metadata": {
        "id": "view-in-github",
        "colab_type": "text"
      },
      "source": [
        "<a href=\"https://colab.research.google.com/github/OrionXV/ISROProject/blob/main/plotfitterClassDocumented.ipynb\" target=\"_parent\"><img src=\"https://colab.research.google.com/assets/colab-badge.svg\" alt=\"Open In Colab\"/></a>"
      ]
    },
    {
      "cell_type": "code",
      "source": [
        "#Dependencies\n",
        "import astropy.convolution.convolve as conv\n",
        "from astropy.convolution import Box1DKernel as box1d\n",
        "from astropy.convolution import Gaussian1DKernel as g1d\n",
        "from astropy.table import Table\n",
        "import pandas as pd\n",
        "from matplotlib.pyplot import figure\n",
        "from scipy.signal import find_peaks\n",
        "from scipy.signal import peak_widths\n",
        "import math \n",
        "from scipy.optimize import curve_fit\n",
        "import matplotlib.pyplot as plt \n",
        "import numpy as np \n",
        "from scipy.optimize import leastsq\n",
        "from scipy.special import erf\n",
        "%config InLineBackend.figure_format = 'retina'\n",
        "\n",
        "class Curve_Fitter():\n",
        "    #data_path to initialize the dataframe which we will work on. Only required parameter.\n",
        "    def __init__(self, data_path, convo_size = 60):\n",
        "        self.data_raw = Table.read(data_path).to_pandas()\n",
        "        self.data = self.convolve(self.data_raw, convo_size) #we will use convolved data for most of our purposes\n",
        "        self.peak_fitter()\n",
        "\n",
        "    #function to convovle the data, returns a new dataframe\n",
        "    def convolve(self, data, width):\n",
        "        data2 = data.copy()\n",
        "        data2['RATE'] = conv(np.array(data['RATE']), kernel = g1d(width), boundary = 'extend')\n",
        "        return data2\n",
        "    \n",
        "    #MATHS AHEAD\n",
        "    #Z = (2*B + (C**2)*D)/(2*C)\n",
        "    #Just a temp function so we don't have to write the expression again and again\n",
        "    def z_func(self, B, C, D):\n",
        "        return (2*B + (C**2)*D)/(2*C)\n",
        "    \n",
        "    #Our objective function, we will fit our curve over this\n",
        "    def objective_func(self, T, A, B, C, D, E, F):\n",
        "        return math.sqrt(np.pi*0.5)*A*C*np.exp(D/2*((2*B)+(C**2)*(D/2)-(2*(T*E+ F))))*(erf(self.z_func(B, C, D))- erf(self.z_func(B, C, D) - (T*E+ F)/C))\n",
        "\n",
        "    #Defining the cost function. We will use sqrt(chi) for our calculations   \n",
        "    def objective_cost_func(self, params, x, y):\n",
        "        a0, b0, c0, d0, e0, f0 = params[0], params[1], params[2], params[3], params[4], params[5]\n",
        "        return np.sqrt(((y - self.objective_func(x, a0, b0, c0, d0, e0, f0))**2)/y)\n",
        "\n",
        "    #Sclaing functions\n",
        "    def min_max_scaler(self, df):\n",
        "        df['RATESCALED'] = (df['RATE']- df['RATE'].min())/(df['RATE'].max()- df['RATE'].min())\n",
        "        df['TIMESCALED'] = (df['TIME']- df['TIME'].min())/(df['TIME'].max()- df['TIME'].min())*2\n",
        "\n",
        "    def rev_scaler(self, df, x):\n",
        "        return x*(df['RATE'].max()- df['RATE'].min()) + df['RATE'].min()\n",
        "    \n",
        "    #tolerence_func is a simple method to determine whether the range of the snippet we take for fitting does not exceed the bounds of our dataframe\n",
        "    def tolerence_func(self, r, start, stop):\n",
        "        if start < 0:\n",
        "            start = 0\n",
        "        else:\n",
        "            start = start\n",
        "        if stop > r:\n",
        "            stop = r\n",
        "        else:\n",
        "            stop = stop\n",
        "        return start, stop\n",
        " \n",
        "    #Main function, it fits the data over our objective function. Returns a list of dictionaries that tell us about the peaks and how we have fitted over them.\n",
        "    #It also initializes the self.peak_df which is a data frame containing all the data for the peaks we have found\n",
        "    #By default it uses the convolved data\n",
        "\n",
        "    def peak_fitter(self, df = None, height = 50):\n",
        "        df = self.data if df is None else df\n",
        "        peak_list, _ = find_peaks(df['RATE'], height= height)\n",
        "        self.min_max_scaler(df)\n",
        "        #df['FIT'] = None\n",
        "        peak_data_list = []\n",
        "        peak_df_list = []\n",
        "        widths = peak_widths(df['RATE'], peak_list , rel_height = 0.94)\n",
        "        for peak, t1, t2 in zip(peak_list, widths[2], widths[3]):\n",
        "            t1 = t1 - 1000*df['RATESCALED'][peak] #df['RATE'][peak]*3 #2.747; Arbitrary \n",
        "            t2 = t2 + 1000*df['RATESCALED'][peak] #t1*ratio \n",
        "            start, stop = self.tolerence_func(len(df), int(t1), int(t2))\n",
        "            TIME = df['TIMESCALED'][start:stop] - df['TIMESCALED'][start] #Some scaling\n",
        "            RATE = df['RATESCALED'][start:stop]\n",
        "\n",
        "            params = [0.2, 0.3, 0.3, 0.4, 0.1, 0.1] #Rando params \n",
        "\n",
        "            resultsq = leastsq(self.objective_cost_func, params, (TIME, RATE))\n",
        "            a, b, c, d, e, f = resultsq[0][0], resultsq[0][1], resultsq[0][2], resultsq[0][3], resultsq[0][4], resultsq[0][5]\n",
        "\n",
        "\n",
        "            new_curve = self.objective_func(TIME, a, b, c, d, e, f)\n",
        "            \n",
        "            peak_df_list.append(pd.DataFrame.from_dict(\n",
        "                {\n",
        "                'start' : [start],\n",
        "                'stop' : [stop],\n",
        "                'rate_curve' : [new_curve],\n",
        "                'rate_curve_scaled' : [self.rev_scaler(df, new_curve)],\n",
        "                'curve_params' : [[a, b, c, d, e, f]],\n",
        "                'fitted_on' : [(TIME, RATE)]\n",
        "            }\n",
        "            )) #For the dataframe \n",
        "            peak_data_list.append(\n",
        "                {\n",
        "                'start' : start,\n",
        "                'stop' : stop,\n",
        "                'rate_curve' : new_curve,\n",
        "                'rate_curve_scaled' : self.rev_scaler(df, new_curve),\n",
        "                'curve_params' : [a, b, c, d, e, f],\n",
        "                'fitted_on' : (TIME, RATE)\n",
        "            }\n",
        "            ) #For the list\n",
        "\n",
        "        self.peak_df = pd.concat(peak_df_list)\n",
        "        self.peak_dic_list = peak_data_list\n",
        "    \n",
        "    def sticher(self, plot = True):\n",
        "        df = self.data\n",
        "        peak_data = self.peak_dic_list\n",
        "        df['STICH'] = None\n",
        "        for peak in peak_data:\n",
        "            i = peak.get('start')\n",
        "            for data_value in df['STICH'][peak.get('start') : peak.get('stop')]:\n",
        "                if data_value is None:\n",
        "                    df['STICH'][i] = peak.get('rate_curve_scaled')[i]\n",
        "                else:\n",
        "                    df['STICH'][i] = max(float(peak.get('rate_curve_scaled')[i]), data_value)\n",
        "                \n",
        "                i+=1\n",
        "        \n",
        "        df['STICH'].fillna(value = df['RATE'].median(), inplace = True)\n",
        "        self.fitted_frame = df.copy()\n",
        "        if plot:\n",
        "            plt.plot(df['TIME'], df['STICH'])\n",
        "    \n",
        "    #Plots our data, if you have already called fitter, then pass the params in here. \n",
        "    def peak_data_plotter(self, df = None, peak_list = None):\n",
        "        df = self.data if df is None else df\n",
        "        peak_list = self.peak_dic_list if peak_list is None else peak_list\n",
        "        figure(figsize=(20, 8), dpi=80)\n",
        "        plt.plot(df['TIME'], df['RATE'])\n",
        "        for peak in peak_list:\n",
        "            plt.plot(df['TIME'][peak.get('start', 0):peak.get('stop', 0)], peak.get('rate_curve_scaled'))"
      ],
      "metadata": {
        "id": "I27b8pLNKkAd"
      },
      "execution_count": 127,
      "outputs": []
    },
    {
      "cell_type": "code",
      "source": [
        "!wget --load-cookies /tmp/cookies.txt \"https://docs.google.com/uc?export=download&confirm=$(wget --quiet --save-cookies /tmp/cookies.txt --keep-session-cookies --no-check-certificate 'https://docs.google.com/uc?export=download&id=1bRy8RDtWz5hbOn888XHSO3QToUAYCctS' -O- | sed -rn 's/.*confirm=([0-9A-Za-z_]+).*/\\1\\n/p')&id=1bRy8RDtWz5hbOn888XHSO3QToUAYCctS\" -O lc.zip && rm -rf /tmp/cookies.txt\n"
      ],
      "metadata": {
        "id": "N16aBhZBnYcm",
        "colab": {
          "base_uri": "https://localhost:8080/"
        },
        "outputId": "d5b7953b-52c6-4937-fb3d-11ad18dc82bc"
      },
      "execution_count": 2,
      "outputs": [
        {
          "output_type": "stream",
          "name": "stdout",
          "text": [
            "--2022-03-15 10:15:35--  https://docs.google.com/uc?export=download&confirm=t&id=1bRy8RDtWz5hbOn888XHSO3QToUAYCctS\n",
            "Resolving docs.google.com (docs.google.com)... 172.217.12.238, 2607:f8b0:4004:807::200e\n",
            "Connecting to docs.google.com (docs.google.com)|172.217.12.238|:443... connected.\n",
            "HTTP request sent, awaiting response... 303 See Other\n",
            "Location: https://doc-14-a0-docs.googleusercontent.com/docs/securesc/ha0ro937gcuc7l7deffksulhg5h7mbp1/l11km6kaftedo6aj1f8024p9bq6a46eh/1647339300000/04989237414475792611/*/1bRy8RDtWz5hbOn888XHSO3QToUAYCctS?e=download [following]\n",
            "Warning: wildcards not supported in HTTP.\n",
            "--2022-03-15 10:15:35--  https://doc-14-a0-docs.googleusercontent.com/docs/securesc/ha0ro937gcuc7l7deffksulhg5h7mbp1/l11km6kaftedo6aj1f8024p9bq6a46eh/1647339300000/04989237414475792611/*/1bRy8RDtWz5hbOn888XHSO3QToUAYCctS?e=download\n",
            "Resolving doc-14-a0-docs.googleusercontent.com (doc-14-a0-docs.googleusercontent.com)... 142.250.188.33, 2607:f8b0:4004:835::2001\n",
            "Connecting to doc-14-a0-docs.googleusercontent.com (doc-14-a0-docs.googleusercontent.com)|142.250.188.33|:443... connected.\n",
            "HTTP request sent, awaiting response... 200 OK\n",
            "Length: 33466656 (32M) [application/zip]\n",
            "Saving to: ‘lc.zip’\n",
            "\n",
            "lc.zip              100%[===================>]  31.92M  19.0MB/s    in 1.7s    \n",
            "\n",
            "2022-03-15 10:15:37 (19.0 MB/s) - ‘lc.zip’ saved [33466656/33466656]\n",
            "\n"
          ]
        }
      ]
    },
    {
      "cell_type": "code",
      "source": [
        "!unzip -q lc.zip\n"
      ],
      "metadata": {
        "id": "Gb9Btez8Eq-S"
      },
      "execution_count": 3,
      "outputs": []
    },
    {
      "cell_type": "code",
      "source": [
        "file = Curve_Fitter('/content/lc/ch2_xsm_20200406_v1_level2.lc')"
      ],
      "metadata": {
        "colab": {
          "base_uri": "https://localhost:8080/"
        },
        "id": "fa_pc3_aEw4c",
        "outputId": "d46f55f2-d791-4b80-b38d-d50052eec86f"
      },
      "execution_count": 128,
      "outputs": [
        {
          "output_type": "stream",
          "name": "stderr",
          "text": [
            "/usr/local/lib/python3.7/dist-packages/pandas/core/arraylike.py:364: RuntimeWarning: overflow encountered in exp\n",
            "  result = getattr(ufunc, method)(*inputs, **kwargs)\n"
          ]
        }
      ]
    },
    {
      "cell_type": "code",
      "source": [
        "file.peak_data_plotter()"
      ],
      "metadata": {
        "colab": {
          "base_uri": "https://localhost:8080/",
          "height": 495
        },
        "id": "E2DS0YRoE5R8",
        "outputId": "364ca2ae-adf4-4e86-8f11-d74552c5fa3f"
      },
      "execution_count": 129,
      "outputs": [
        {
          "output_type": "display_data",
          "data": {
            "text/plain": [
              "<Figure size 1600x640 with 1 Axes>"
            ],
            "image/png": "[encoded data removed]"
          },
          "metadata": {
            "needs_background": "light"
          }
        }
      ]
    },
    {
      "cell_type": "code",
      "source": [
        "file.sticher()"
      ],
      "metadata": {
        "id": "WDvoC0trYaVo",
        "outputId": "171afcf1-3eea-40db-e778-3b9ac009861e",
        "colab": {
          "base_uri": "https://localhost:8080/",
          "height": 417
        }
      },
      "execution_count": 130,
      "outputs": [
        {
          "output_type": "stream",
          "name": "stderr",
          "text": [
            "/usr/local/lib/python3.7/dist-packages/ipykernel_launcher.py:125: SettingWithCopyWarning: \n",
            "A value is trying to be set on a copy of a slice from a DataFrame\n",
            "\n",
            "See the caveats in the documentation: https://pandas.pydata.org/pandas-docs/stable/user_guide/indexing.html#returning-a-view-versus-a-copy\n",
            "/usr/local/lib/python3.7/dist-packages/ipykernel_launcher.py:127: SettingWithCopyWarning: \n",
            "A value is trying to be set on a copy of a slice from a DataFrame\n",
            "\n",
            "See the caveats in the documentation: https://pandas.pydata.org/pandas-docs/stable/user_guide/indexing.html#returning-a-view-versus-a-copy\n"
          ]
        },
        {
          "output_type": "display_data",
          "data": {
            "text/plain": [
              "<Figure size 432x288 with 1 Axes>"
            ],
            "image/png": "[encoded data removed]"
          },
          "metadata": {
            "needs_background": "light"
          }
        }
      ]
    },
    {
      "cell_type": "code",
      "source": [
        "lis = file.peak_dic_list"
      ],
      "metadata": {
        "id": "5PkCQZm2FF0D"
      },
      "execution_count": 102,
      "outputs": []
    },
    {
      "cell_type": "code",
      "source": [
        "lis[1].get('rate_curve_scaled'),"
      ],
      "metadata": {
        "id": "zLGpRuFDXoTV",
        "outputId": "e26e9fce-e79f-4404-b7de-2a6cf0c33e8a",
        "colab": {
          "base_uri": "https://localhost:8080/"
        }
      },
      "execution_count": 105,
      "outputs": [
        {
          "output_type": "execute_result",
          "data": {
            "text/plain": [
              "(29467    18.742764\n",
              " 29468    18.742764\n",
              " 29469    18.742764\n",
              " 29470    18.742764\n",
              " 29471    18.742764\n",
              "            ...    \n",
              " 32861    24.944645\n",
              " 32862    24.932998\n",
              " 32863    24.921373\n",
              " 32864    24.909770\n",
              " 32865    24.898189\n",
              " Name: TIMESCALED, Length: 3399, dtype: float64,)"
            ]
          },
          "metadata": {},
          "execution_count": 105
        }
      ]
    },
    {
      "cell_type": "code",
      "source": [
        "lis[1].get('start')"
      ],
      "metadata": {
        "id": "OKomEusYX_96",
        "outputId": "e1e070ec-b4f4-4e6b-e28e-339b035dbbee",
        "colab": {
          "base_uri": "https://localhost:8080/"
        }
      },
      "execution_count": 106,
      "outputs": [
        {
          "output_type": "execute_result",
          "data": {
            "text/plain": [
              "29467"
            ]
          },
          "metadata": {},
          "execution_count": 106
        }
      ]
    },
    {
      "cell_type": "code",
      "source": [
        ""
      ],
      "metadata": {
        "id": "jf-KlzqrZN01"
      },
      "execution_count": null,
      "outputs": []
    }
  ],
  "metadata": {
    "colab": {
      "name": "plotfitter.ipynb",
      "provenance": [],
      "collapsed_sections": [],
      "authorship_tag": "ABX9TyO5v4ys1mPnG3RyiRej9RAt",
      "include_colab_link": true
    },
    "kernelspec": {
      "display_name": "Python 3",
      "name": "python3"
    },
    "language_info": {
      "name": "python"
    }
  },
  "nbformat": 4,
  "nbformat_minor": 0
}