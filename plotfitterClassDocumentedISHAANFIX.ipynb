{
  "cells": [
    {
      "cell_type": "markdown",
      "metadata": {
        "id": "view-in-github",
        "colab_type": "text"
      },
      "source": [
        "<a href=\"https://colab.research.google.com/github/OrionXV/ISROProject/blob/Ishaan/plotfitterClassDocumentedISHAANFIX.ipynb\" target=\"_parent\"><img src=\"https://colab.research.google.com/assets/colab-badge.svg\" alt=\"Open In Colab\"/></a>"
      ]
    },
    {
      "cell_type": "code",
      "source": [
        "#Dependencies\n",
        "import astropy.convolution.convolve as conv\n",
        "from astropy.convolution import Box1DKernel as box1d\n",
        "from astropy.convolution import Gaussian1DKernel as g1d\n",
        "from astropy.table import Table\n",
        "import pandas as pd\n",
        "from matplotlib.pyplot import figure\n",
        "from scipy.signal import find_peaks\n",
        "from scipy.signal import peak_widths\n",
        "import math \n",
        "from scipy.optimize import curve_fit\n",
        "import matplotlib.pyplot as plt \n",
        "import numpy as np \n",
        "from scipy.optimize import leastsq\n",
        "from scipy.special import erf\n",
        "%config InLineBackend.figure_format = 'retina'\n",
        "\n",
        "class Curve_Fitter():\n",
        "    #data_path to initialize the dataframe which we will work on. Only required parameter.\n",
        "    def __init__(self, data_path, convo_size = 60):\n",
        "        self.data_raw = Table.read(data_path).to_pandas()\n",
        "        self.data = self.convolve(self.data_raw, convo_size) #we will use convolved data for most of our purposes\n",
        "\n",
        "    #function to convovle the data, returns a new dataframe\n",
        "    def convolve(self, data, width):\n",
        "        data2 = data.copy()\n",
        "        data2['RATE'] = conv(np.array(data['RATE']), kernel = g1d(width), boundary = 'extend')\n",
        "        return data2\n",
        "    \n",
        "    #MATHS AHEAD\n",
        "    #Z = (2*B + (C**2)*D)/(2*C)\n",
        "    #Just a temp function so we don't have to write the expression again and again\n",
        "    def z_func(self, B, C, D):\n",
        "        return (2*B + (C**2)*D)/(2*C)\n",
        "    \n",
        "    #Our objective function, we will fit our curve over this\n",
        "    def objective_func(self, T, A, B, C, D, E, F):\n",
        "        return math.sqrt(np.pi*0.5)*A*C*np.exp(D/2*((2*B)+(C**2)*(D/2)-(2*(T*E+ F))))*(erf(self.z_func(B, C, D))- erf(self.z_func(B, C, D) - (T*E+ F)/C))\n",
        "\n",
        "    #Defining the cost function. We will use sqrt(chi) for our calculations   \n",
        "    def objective_cost_func(self, params, x, y):\n",
        "        a0, b0, c0, d0, e0, f0 = params[0], params[1], params[2], params[3], params[4], params[5]\n",
        "        return np.sqrt(((y - self.objective_func(x, a0, b0, c0, d0, e0, f0))**2)/y)\n",
        "\n",
        "    #Sclaing functions\n",
        "    def min_max_scaler(self, df):\n",
        "        df['RATESCALED'] = (df['RATE']- df['RATE'].min())/(df['RATE'].max()- df['RATE'].min())\n",
        "        df['TIMESCALED'] = (df['TIME']- df['TIME'].min())/(df['TIME'].max()- df['TIME'].min())*2\n",
        "\n",
        "    def rev_scaler(self, df, x):\n",
        "        return x*(df['RATE'].max()- df['RATE'].min()) + df['RATE'].min()\n",
        "    \n",
        "    #tolerence_func is a simple method to determine whether the range of the snippet we take for fitting does not exceed the bounds of our dataframe\n",
        "    \n",
        " \n",
        "    #Main function, it fits the data over our objective function. Returns a list of dictionaries that tell us about the peaks and how we have fitted over them.\n",
        "    #It also initializes the self.peak_df which is a data frame containing all the data for the peaks we have found\n",
        "    #By default it uses the convolved data\n",
        "\n",
        "    def peak_fitter(self, df = None, ratio = 2):\n",
        "        df = self.data if df is None else df\n",
        "        peak_list, _ = find_peaks(df['RATE'], height= 20,distance=60) #df['RATE'].median()*\n",
        "        self.min_max_scaler(df)\n",
        "        #df['FIT'] = None\n",
        "        peak_data_list = []\n",
        "        peak_df_list = []\n",
        "        width=peak_widths(df['RATE'],peak_list,rel_height=0.94)\n",
        "        start=width[2].astype(int)\n",
        "        stop=width[3].astype(int)\n",
        "        for i in range(len(peak_list)):\n",
        "            #t1 = df['RATE'][peak_list[i]]*5 #2.747; Arbitrary \n",
        "            #t2 = t1*ratio \n",
        "            #start, stop = self.tolerence_func(len(df), peak, int(t1), int(t2))\n",
        "            TIME = df['TIME'][start[i]:stop[i]] - df['TIME'][start[i]] #Some scaling\n",
        "            RATE = df['RATESCALED'][start[i]:stop[i]]\n",
        "\n",
        "            params = [0.2, 0.3, 0.3, 0.4, 0.1, 0.1] #Rando params \n",
        "\n",
        "            resultsq = leastsq(self.objective_cost_func, params, (TIME, RATE))\n",
        "            a, b, c, d, e, f = resultsq[0][0], resultsq[0][1], resultsq[0][2], resultsq[0][3], resultsq[0][4], resultsq[0][5]\n",
        "\n",
        "\n",
        "            new_curve = self.objective_func(TIME, a, b, c, d, e, f)\n",
        "            #Our dicc\n",
        "            peak_dic = {\n",
        "                'start' : start[i],\n",
        "                'stop' : stop[i],\n",
        "                'rate_curve' : new_curve,\n",
        "                'rate_curve_scaled' : self.rev_scaler(df, new_curve),\n",
        "                'curve_params' : [a, b, c, d, e, f],\n",
        "                'fitted_on' : (TIME, RATE)\n",
        "            }\n",
        "            peak_df_list.append(pd.DataFrame.from_dict(\n",
        "                {\n",
        "                'start' : [start[i]],\n",
        "                'stop' : [stop[i]],\n",
        "                'rate_curve' : [new_curve],\n",
        "                'rate_curve_scaled' : [self.rev_scaler(df, new_curve)],\n",
        "                'curve_params' : [[a, b, c, d, e, f]],\n",
        "                'fitted_on' : [(TIME, RATE)]\n",
        "            }\n",
        "            )) #For the dataframe \n",
        "            peak_data_list.append(peak_dic) #For the list\n",
        "\n",
        "        self.peak_df = pd.concat(peak_df_list)\n",
        "        self.peak_dic_list = peak_data_list\n",
        "        return peak_data_list\n",
        "    #Plots our data, if you have already called fitter, then pass the params in here. \n",
        "    def peak_data_plotter(self, df = None, peak_list = None):\n",
        "        df = self.data if df is None else df\n",
        "        peak_list = self.peak_fitter() if peak_list is None else peak_list\n",
        "        figure(figsize=(20, 8), dpi=80)\n",
        "        plt.plot(df['TIME'], df['RATE'])\n",
        "        for peak in peak_list:\n",
        "            plt.plot(df['TIME'][peak.get('start', 0):peak.get('stop', 0)], peak.get('rate_curve_scaled'))"
      ],
      "metadata": {
        "id": "I27b8pLNKkAd"
      },
      "execution_count": 3,
      "outputs": []
    },
    {
      "cell_type": "code",
      "source": [
        "!wget --load-cookies /tmp/cookies.txt \"https://docs.google.com/uc?export=download&confirm=$(wget --quiet --save-cookies /tmp/cookies.txt --keep-session-cookies --no-check-certificate 'https://docs.google.com/uc?export=download&id=1bRy8RDtWz5hbOn888XHSO3QToUAYCctS' -O- | sed -rn 's/.*confirm=([0-9A-Za-z_]+).*/\\1\\n/p')&id=1bRy8RDtWz5hbOn888XHSO3QToUAYCctS\" -O lc.zip && rm -rf /tmp/cookies.txt"
      ],
      "metadata": {
        "id": "N16aBhZBnYcm",
        "colab": {
          "base_uri": "https://localhost:8080/"
        },
        "outputId": "69184137-be82-4a8f-a29c-b308f4c108ee"
      },
      "execution_count": 4,
      "outputs": [
        {
          "output_type": "stream",
          "name": "stdout",
          "text": [
            "--2022-03-15 06:25:07--  https://docs.google.com/uc?export=download&confirm=t&id=1bRy8RDtWz5hbOn888XHSO3QToUAYCctS\n",
            "Resolving docs.google.com (docs.google.com)... 108.177.11.101, 108.177.11.113, 108.177.11.102, ...\n",
            "Connecting to docs.google.com (docs.google.com)|108.177.11.101|:443... connected.\n",
            "HTTP request sent, awaiting response... 303 See Other\n",
            "Location: https://doc-14-a0-docs.googleusercontent.com/docs/securesc/ha0ro937gcuc7l7deffksulhg5h7mbp1/jbdfsuoobkk6ora0bjdqme488iirqe4o/1647325500000/04989237414475792611/*/1bRy8RDtWz5hbOn888XHSO3QToUAYCctS?e=download [following]\n",
            "Warning: wildcards not supported in HTTP.\n",
            "--2022-03-15 06:25:07--  https://doc-14-a0-docs.googleusercontent.com/docs/securesc/ha0ro937gcuc7l7deffksulhg5h7mbp1/jbdfsuoobkk6ora0bjdqme488iirqe4o/1647325500000/04989237414475792611/*/1bRy8RDtWz5hbOn888XHSO3QToUAYCctS?e=download\n",
            "Resolving doc-14-a0-docs.googleusercontent.com (doc-14-a0-docs.googleusercontent.com)... 172.217.203.132, 2607:f8b0:400c:c07::84\n",
            "Connecting to doc-14-a0-docs.googleusercontent.com (doc-14-a0-docs.googleusercontent.com)|172.217.203.132|:443... connected.\n",
            "HTTP request sent, awaiting response... 200 OK\n",
            "Length: 33466656 (32M) [application/zip]\n",
            "Saving to: ‘lc.zip’\n",
            "\n",
            "lc.zip              100%[===================>]  31.92M   161MB/s    in 0.2s    \n",
            "\n",
            "2022-03-15 06:25:08 (161 MB/s) - ‘lc.zip’ saved [33466656/33466656]\n",
            "\n"
          ]
        }
      ]
    },
    {
      "cell_type": "code",
      "source": [
        "!unzip -q lc.zip"
      ],
      "metadata": {
        "id": "nCrIRF7qqEgt"
      },
      "execution_count": 5,
      "outputs": []
    },
    {
      "cell_type": "code",
      "source": [
        "file = Curve_Fitter(data_path = '/content/ch2_xsm_20190912_v1_level2.lc')"
      ],
      "metadata": {
        "id": "4u-OkBdxqGnE",
        "outputId": "28c790a0-7784-4a40-9fa1-32e8fbbab947",
        "colab": {
          "base_uri": "https://localhost:8080/",
          "height": 330
        }
      },
      "execution_count": 6,
      "outputs": [
        {
          "output_type": "error",
          "ename": "FileNotFoundError",
          "evalue": "ignored",
          "traceback": [
            "\u001b[0;31m---------------------------------------------------------------------------\u001b[0m",
            "\u001b[0;31mFileNotFoundError\u001b[0m                         Traceback (most recent call last)",
            "\u001b[0;32m<ipython-input-6-6cb9001156b8>\u001b[0m in \u001b[0;36m<module>\u001b[0;34m()\u001b[0m\n\u001b[0;32m----> 1\u001b[0;31m \u001b[0mfile\u001b[0m \u001b[0;34m=\u001b[0m \u001b[0mCurve_Fitter\u001b[0m\u001b[0;34m(\u001b[0m\u001b[0mdata_path\u001b[0m \u001b[0;34m=\u001b[0m \u001b[0;34m'/content/ch2_xsm_20190912_v1_level2.lc'\u001b[0m\u001b[0;34m)\u001b[0m\u001b[0;34m\u001b[0m\u001b[0;34m\u001b[0m\u001b[0m\n\u001b[0m",
            "\u001b[0;32m<ipython-input-3-99a3cea0bfde>\u001b[0m in \u001b[0;36m__init__\u001b[0;34m(self, data_path, convo_size)\u001b[0m\n\u001b[1;32m     19\u001b[0m     \u001b[0;31m#data_path to initialize the dataframe which we will work on. Only required parameter.\u001b[0m\u001b[0;34m\u001b[0m\u001b[0;34m\u001b[0m\u001b[0;34m\u001b[0m\u001b[0m\n\u001b[1;32m     20\u001b[0m     \u001b[0;32mdef\u001b[0m \u001b[0m__init__\u001b[0m\u001b[0;34m(\u001b[0m\u001b[0mself\u001b[0m\u001b[0;34m,\u001b[0m \u001b[0mdata_path\u001b[0m\u001b[0;34m,\u001b[0m \u001b[0mconvo_size\u001b[0m \u001b[0;34m=\u001b[0m \u001b[0;36m60\u001b[0m\u001b[0;34m)\u001b[0m\u001b[0;34m:\u001b[0m\u001b[0;34m\u001b[0m\u001b[0;34m\u001b[0m\u001b[0m\n\u001b[0;32m---> 21\u001b[0;31m         \u001b[0mself\u001b[0m\u001b[0;34m.\u001b[0m\u001b[0mdata_raw\u001b[0m \u001b[0;34m=\u001b[0m \u001b[0mTable\u001b[0m\u001b[0;34m.\u001b[0m\u001b[0mread\u001b[0m\u001b[0;34m(\u001b[0m\u001b[0mdata_path\u001b[0m\u001b[0;34m)\u001b[0m\u001b[0;34m.\u001b[0m\u001b[0mto_pandas\u001b[0m\u001b[0;34m(\u001b[0m\u001b[0;34m)\u001b[0m\u001b[0;34m\u001b[0m\u001b[0;34m\u001b[0m\u001b[0m\n\u001b[0m\u001b[1;32m     22\u001b[0m         \u001b[0mself\u001b[0m\u001b[0;34m.\u001b[0m\u001b[0mdata\u001b[0m \u001b[0;34m=\u001b[0m \u001b[0mself\u001b[0m\u001b[0;34m.\u001b[0m\u001b[0mconvolve\u001b[0m\u001b[0;34m(\u001b[0m\u001b[0mself\u001b[0m\u001b[0;34m.\u001b[0m\u001b[0mdata_raw\u001b[0m\u001b[0;34m,\u001b[0m \u001b[0mconvo_size\u001b[0m\u001b[0;34m)\u001b[0m \u001b[0;31m#we will use convolved data for most of our purposes\u001b[0m\u001b[0;34m\u001b[0m\u001b[0;34m\u001b[0m\u001b[0m\n\u001b[1;32m     23\u001b[0m \u001b[0;34m\u001b[0m\u001b[0m\n",
            "\u001b[0;32m/usr/local/lib/python3.7/dist-packages/astropy/table/connect.py\u001b[0m in \u001b[0;36m__call__\u001b[0;34m(self, *args, **kwargs)\u001b[0m\n\u001b[1;32m     59\u001b[0m         \u001b[0mdescriptions\u001b[0m \u001b[0;34m=\u001b[0m \u001b[0mkwargs\u001b[0m\u001b[0;34m.\u001b[0m\u001b[0mpop\u001b[0m\u001b[0;34m(\u001b[0m\u001b[0;34m'descriptions'\u001b[0m\u001b[0;34m,\u001b[0m \u001b[0;32mNone\u001b[0m\u001b[0;34m)\u001b[0m\u001b[0;34m\u001b[0m\u001b[0;34m\u001b[0m\u001b[0m\n\u001b[1;32m     60\u001b[0m \u001b[0;34m\u001b[0m\u001b[0m\n\u001b[0;32m---> 61\u001b[0;31m         \u001b[0mout\u001b[0m \u001b[0;34m=\u001b[0m \u001b[0mregistry\u001b[0m\u001b[0;34m.\u001b[0m\u001b[0mread\u001b[0m\u001b[0;34m(\u001b[0m\u001b[0mcls\u001b[0m\u001b[0;34m,\u001b[0m \u001b[0;34m*\u001b[0m\u001b[0margs\u001b[0m\u001b[0;34m,\u001b[0m \u001b[0;34m**\u001b[0m\u001b[0mkwargs\u001b[0m\u001b[0;34m)\u001b[0m\u001b[0;34m\u001b[0m\u001b[0;34m\u001b[0m\u001b[0m\n\u001b[0m\u001b[1;32m     62\u001b[0m \u001b[0;34m\u001b[0m\u001b[0m\n\u001b[1;32m     63\u001b[0m         \u001b[0;31m# For some readers (e.g., ascii.ecsv), the returned `out` class is not\u001b[0m\u001b[0;34m\u001b[0m\u001b[0;34m\u001b[0m\u001b[0;34m\u001b[0m\u001b[0m\n",
            "\u001b[0;32m/usr/local/lib/python3.7/dist-packages/astropy/io/registry.py\u001b[0m in \u001b[0;36mread\u001b[0;34m(cls, format, cache, *args, **kwargs)\u001b[0m\n\u001b[1;32m    510\u001b[0m                     \u001b[0;32mtry\u001b[0m\u001b[0;34m:\u001b[0m\u001b[0;34m\u001b[0m\u001b[0;34m\u001b[0m\u001b[0m\n\u001b[1;32m    511\u001b[0m                         \u001b[0mctx\u001b[0m \u001b[0;34m=\u001b[0m \u001b[0mget_readable_fileobj\u001b[0m\u001b[0;34m(\u001b[0m\u001b[0margs\u001b[0m\u001b[0;34m[\u001b[0m\u001b[0;36m0\u001b[0m\u001b[0;34m]\u001b[0m\u001b[0;34m,\u001b[0m \u001b[0mencoding\u001b[0m\u001b[0;34m=\u001b[0m\u001b[0;34m'binary'\u001b[0m\u001b[0;34m,\u001b[0m \u001b[0mcache\u001b[0m\u001b[0;34m=\u001b[0m\u001b[0mcache\u001b[0m\u001b[0;34m)\u001b[0m\u001b[0;34m\u001b[0m\u001b[0;34m\u001b[0m\u001b[0m\n\u001b[0;32m--> 512\u001b[0;31m                         \u001b[0mfileobj\u001b[0m \u001b[0;34m=\u001b[0m \u001b[0mctx\u001b[0m\u001b[0;34m.\u001b[0m\u001b[0m__enter__\u001b[0m\u001b[0;34m(\u001b[0m\u001b[0;34m)\u001b[0m\u001b[0;34m\u001b[0m\u001b[0;34m\u001b[0m\u001b[0m\n\u001b[0m\u001b[1;32m    513\u001b[0m                     \u001b[0;32mexcept\u001b[0m \u001b[0mOSError\u001b[0m\u001b[0;34m:\u001b[0m\u001b[0;34m\u001b[0m\u001b[0;34m\u001b[0m\u001b[0m\n\u001b[1;32m    514\u001b[0m                         \u001b[0;32mraise\u001b[0m\u001b[0;34m\u001b[0m\u001b[0;34m\u001b[0m\u001b[0m\n",
            "\u001b[0;32m/usr/lib/python3.7/contextlib.py\u001b[0m in \u001b[0;36m__enter__\u001b[0;34m(self)\u001b[0m\n\u001b[1;32m    110\u001b[0m         \u001b[0;32mdel\u001b[0m \u001b[0mself\u001b[0m\u001b[0;34m.\u001b[0m\u001b[0margs\u001b[0m\u001b[0;34m,\u001b[0m \u001b[0mself\u001b[0m\u001b[0;34m.\u001b[0m\u001b[0mkwds\u001b[0m\u001b[0;34m,\u001b[0m \u001b[0mself\u001b[0m\u001b[0;34m.\u001b[0m\u001b[0mfunc\u001b[0m\u001b[0;34m\u001b[0m\u001b[0;34m\u001b[0m\u001b[0m\n\u001b[1;32m    111\u001b[0m         \u001b[0;32mtry\u001b[0m\u001b[0;34m:\u001b[0m\u001b[0;34m\u001b[0m\u001b[0;34m\u001b[0m\u001b[0m\n\u001b[0;32m--> 112\u001b[0;31m             \u001b[0;32mreturn\u001b[0m \u001b[0mnext\u001b[0m\u001b[0;34m(\u001b[0m\u001b[0mself\u001b[0m\u001b[0;34m.\u001b[0m\u001b[0mgen\u001b[0m\u001b[0;34m)\u001b[0m\u001b[0;34m\u001b[0m\u001b[0;34m\u001b[0m\u001b[0m\n\u001b[0m\u001b[1;32m    113\u001b[0m         \u001b[0;32mexcept\u001b[0m \u001b[0mStopIteration\u001b[0m\u001b[0;34m:\u001b[0m\u001b[0;34m\u001b[0m\u001b[0;34m\u001b[0m\u001b[0m\n\u001b[1;32m    114\u001b[0m             \u001b[0;32mraise\u001b[0m \u001b[0mRuntimeError\u001b[0m\u001b[0;34m(\u001b[0m\u001b[0;34m\"generator didn't yield\"\u001b[0m\u001b[0;34m)\u001b[0m \u001b[0;32mfrom\u001b[0m \u001b[0;32mNone\u001b[0m\u001b[0;34m\u001b[0m\u001b[0;34m\u001b[0m\u001b[0m\n",
            "\u001b[0;32m/usr/local/lib/python3.7/dist-packages/astropy/utils/data.py\u001b[0m in \u001b[0;36mget_readable_fileobj\u001b[0;34m(name_or_obj, encoding, cache, show_progress, remote_timeout, sources, http_headers)\u001b[0m\n\u001b[1;32m    260\u001b[0m                 \u001b[0mtimeout\u001b[0m\u001b[0;34m=\u001b[0m\u001b[0mremote_timeout\u001b[0m\u001b[0;34m,\u001b[0m \u001b[0msources\u001b[0m\u001b[0;34m=\u001b[0m\u001b[0msources\u001b[0m\u001b[0;34m,\u001b[0m\u001b[0;34m\u001b[0m\u001b[0;34m\u001b[0m\u001b[0m\n\u001b[1;32m    261\u001b[0m                 http_headers=http_headers)\n\u001b[0;32m--> 262\u001b[0;31m         \u001b[0mfileobj\u001b[0m \u001b[0;34m=\u001b[0m \u001b[0mio\u001b[0m\u001b[0;34m.\u001b[0m\u001b[0mFileIO\u001b[0m\u001b[0;34m(\u001b[0m\u001b[0mname_or_obj\u001b[0m\u001b[0;34m,\u001b[0m \u001b[0;34m'r'\u001b[0m\u001b[0;34m)\u001b[0m\u001b[0;34m\u001b[0m\u001b[0;34m\u001b[0m\u001b[0m\n\u001b[0m\u001b[1;32m    263\u001b[0m         \u001b[0;32mif\u001b[0m \u001b[0mis_url\u001b[0m \u001b[0;32mand\u001b[0m \u001b[0;32mnot\u001b[0m \u001b[0mcache\u001b[0m\u001b[0;34m:\u001b[0m\u001b[0;34m\u001b[0m\u001b[0;34m\u001b[0m\u001b[0m\n\u001b[1;32m    264\u001b[0m             \u001b[0mdelete_fds\u001b[0m\u001b[0;34m.\u001b[0m\u001b[0mappend\u001b[0m\u001b[0;34m(\u001b[0m\u001b[0mfileobj\u001b[0m\u001b[0;34m)\u001b[0m\u001b[0;34m\u001b[0m\u001b[0;34m\u001b[0m\u001b[0m\n",
            "\u001b[0;31mFileNotFoundError\u001b[0m: [Errno 2] No such file or directory: '/content/ch2_xsm_20190912_v1_level2.lc'"
          ]
        }
      ]
    },
    {
      "cell_type": "code",
      "source": [
        "file1 = Curve_Fitter(data_path = '/content/ch2_xsm_20190930_v1_level2.lc')"
      ],
      "metadata": {
        "id": "xhE5ByLESYBM"
      },
      "execution_count": 58,
      "outputs": []
    },
    {
      "cell_type": "code",
      "source": [
        "file2= Curve_Fitter(data_path = '/content/ch2_xsm_20191001_v1_level2.lc')"
      ],
      "metadata": {
        "id": "8EgYwS8-SdPX"
      },
      "execution_count": 59,
      "outputs": []
    },
    {
      "cell_type": "code",
      "source": [
        "file3= Curve_Fitter(data_path = '/content/ch2_xsm_20211110_v1_level2.lc')"
      ],
      "metadata": {
        "id": "0zSWNRvrVVBO"
      },
      "execution_count": 60,
      "outputs": []
    },
    {
      "cell_type": "code",
      "source": [
        "file4= Curve_Fitter(data_path = '/content/ch2_xsm_20211109_v1_level2.lc')\n"
      ],
      "metadata": {
        "id": "43zTpg1nbnW4"
      },
      "execution_count": 61,
      "outputs": []
    },
    {
      "cell_type": "code",
      "source": [
        "#plt.plot(file.data['TIME'],file.data['RATE'])\n",
        "#plt.plot(file1.data['TIME'],file1.data['RATE'])\n",
        "plt.plot(file.data['TIME']-file.data['TIME'][0],file.data['RATE'])\n",
        "#plt.plot(file4.data['TIME']-file4.data['TIME'][0],file4.data['RATE'])\n",
        "#plt.plot(file3.data['TIME']-file3.data['TIME'][0],file3.data['RATE'])\n"
      ],
      "metadata": {
        "id": "BDPHxDLkBEe0",
        "outputId": "361572c6-3084-4096-f477-ba83ac7bfbd9",
        "colab": {
          "base_uri": "https://localhost:8080/",
          "height": 282
        }
      },
      "execution_count": 63,
      "outputs": [
        {
          "output_type": "execute_result",
          "data": {
            "text/plain": [
              "[<matplotlib.lines.Line2D at 0x7ff694c8f390>]"
            ]
          },
          "metadata": {},
          "execution_count": 63
        },
        {
          "output_type": "display_data",
          "data": {
            "text/plain": [
              "<Figure size 432x288 with 1 Axes>"
            ],
            "image/png": "[encoded data removed]"
          },
          "metadata": {
            "needs_background": "light"
          }
        }
      ]
    },
    {
      "cell_type": "code",
      "source": [
        "file.peak_data_plotter()"
      ],
      "metadata": {
        "colab": {
          "base_uri": "https://localhost:8080/",
          "height": 330
        },
        "id": "yxbvv2ZvqYLF",
        "outputId": "403b54a8-23e0-4d3c-df43-d2d22c7b0733"
      },
      "execution_count": 62,
      "outputs": [
        {
          "output_type": "error",
          "ename": "ValueError",
          "evalue": "ignored",
          "traceback": [
            "\u001b[0;31m---------------------------------------------------------------------------\u001b[0m",
            "\u001b[0;31mValueError\u001b[0m                                Traceback (most recent call last)",
            "\u001b[0;32m<ipython-input-62-8d3617c6bd4a>\u001b[0m in \u001b[0;36m<module>\u001b[0;34m()\u001b[0m\n\u001b[0;32m----> 1\u001b[0;31m \u001b[0mfile\u001b[0m\u001b[0;34m.\u001b[0m\u001b[0mpeak_data_plotter\u001b[0m\u001b[0;34m(\u001b[0m\u001b[0;34m)\u001b[0m\u001b[0;34m\u001b[0m\u001b[0;34m\u001b[0m\u001b[0m\n\u001b[0m",
            "\u001b[0;32m<ipython-input-56-e40fb760ae0d>\u001b[0m in \u001b[0;36mpeak_data_plotter\u001b[0;34m(self, df, peak_list)\u001b[0m\n\u001b[1;32m    109\u001b[0m     \u001b[0;32mdef\u001b[0m \u001b[0mpeak_data_plotter\u001b[0m\u001b[0;34m(\u001b[0m\u001b[0mself\u001b[0m\u001b[0;34m,\u001b[0m \u001b[0mdf\u001b[0m \u001b[0;34m=\u001b[0m \u001b[0;32mNone\u001b[0m\u001b[0;34m,\u001b[0m \u001b[0mpeak_list\u001b[0m \u001b[0;34m=\u001b[0m \u001b[0;32mNone\u001b[0m\u001b[0;34m)\u001b[0m\u001b[0;34m:\u001b[0m\u001b[0;34m\u001b[0m\u001b[0;34m\u001b[0m\u001b[0m\n\u001b[1;32m    110\u001b[0m         \u001b[0mdf\u001b[0m \u001b[0;34m=\u001b[0m \u001b[0mself\u001b[0m\u001b[0;34m.\u001b[0m\u001b[0mdata\u001b[0m \u001b[0;32mif\u001b[0m \u001b[0mdf\u001b[0m \u001b[0;32mis\u001b[0m \u001b[0;32mNone\u001b[0m \u001b[0;32melse\u001b[0m \u001b[0mdf\u001b[0m\u001b[0;34m\u001b[0m\u001b[0;34m\u001b[0m\u001b[0m\n\u001b[0;32m--> 111\u001b[0;31m         \u001b[0mpeak_list\u001b[0m \u001b[0;34m=\u001b[0m \u001b[0mself\u001b[0m\u001b[0;34m.\u001b[0m\u001b[0mpeak_fitter\u001b[0m\u001b[0;34m(\u001b[0m\u001b[0;34m)\u001b[0m \u001b[0;32mif\u001b[0m \u001b[0mpeak_list\u001b[0m \u001b[0;32mis\u001b[0m \u001b[0;32mNone\u001b[0m \u001b[0;32melse\u001b[0m \u001b[0mpeak_list\u001b[0m\u001b[0;34m\u001b[0m\u001b[0;34m\u001b[0m\u001b[0m\n\u001b[0m\u001b[1;32m    112\u001b[0m         \u001b[0mfigure\u001b[0m\u001b[0;34m(\u001b[0m\u001b[0mfigsize\u001b[0m\u001b[0;34m=\u001b[0m\u001b[0;34m(\u001b[0m\u001b[0;36m20\u001b[0m\u001b[0;34m,\u001b[0m \u001b[0;36m8\u001b[0m\u001b[0;34m)\u001b[0m\u001b[0;34m,\u001b[0m \u001b[0mdpi\u001b[0m\u001b[0;34m=\u001b[0m\u001b[0;36m80\u001b[0m\u001b[0;34m)\u001b[0m\u001b[0;34m\u001b[0m\u001b[0;34m\u001b[0m\u001b[0m\n\u001b[1;32m    113\u001b[0m         \u001b[0mplt\u001b[0m\u001b[0;34m.\u001b[0m\u001b[0mplot\u001b[0m\u001b[0;34m(\u001b[0m\u001b[0mdf\u001b[0m\u001b[0;34m[\u001b[0m\u001b[0;34m'TIME'\u001b[0m\u001b[0;34m]\u001b[0m\u001b[0;34m,\u001b[0m \u001b[0mdf\u001b[0m\u001b[0;34m[\u001b[0m\u001b[0;34m'RATE'\u001b[0m\u001b[0;34m]\u001b[0m\u001b[0;34m)\u001b[0m\u001b[0;34m\u001b[0m\u001b[0;34m\u001b[0m\u001b[0m\n",
            "\u001b[0;32m<ipython-input-56-e40fb760ae0d>\u001b[0m in \u001b[0;36mpeak_fitter\u001b[0;34m(self, df, ratio)\u001b[0m\n\u001b[1;32m    103\u001b[0m             \u001b[0mpeak_data_list\u001b[0m\u001b[0;34m.\u001b[0m\u001b[0mappend\u001b[0m\u001b[0;34m(\u001b[0m\u001b[0mpeak_dic\u001b[0m\u001b[0;34m)\u001b[0m \u001b[0;31m#For the list\u001b[0m\u001b[0;34m\u001b[0m\u001b[0;34m\u001b[0m\u001b[0m\n\u001b[1;32m    104\u001b[0m \u001b[0;34m\u001b[0m\u001b[0m\n\u001b[0;32m--> 105\u001b[0;31m         \u001b[0mself\u001b[0m\u001b[0;34m.\u001b[0m\u001b[0mpeak_df\u001b[0m \u001b[0;34m=\u001b[0m \u001b[0mpd\u001b[0m\u001b[0;34m.\u001b[0m\u001b[0mconcat\u001b[0m\u001b[0;34m(\u001b[0m\u001b[0mpeak_df_list\u001b[0m\u001b[0;34m)\u001b[0m\u001b[0;34m\u001b[0m\u001b[0;34m\u001b[0m\u001b[0m\n\u001b[0m\u001b[1;32m    106\u001b[0m         \u001b[0mself\u001b[0m\u001b[0;34m.\u001b[0m\u001b[0mpeak_dic_list\u001b[0m \u001b[0;34m=\u001b[0m \u001b[0mpeak_data_list\u001b[0m\u001b[0;34m\u001b[0m\u001b[0;34m\u001b[0m\u001b[0m\n\u001b[1;32m    107\u001b[0m         \u001b[0;32mreturn\u001b[0m \u001b[0mpeak_data_list\u001b[0m\u001b[0;34m\u001b[0m\u001b[0;34m\u001b[0m\u001b[0m\n",
            "\u001b[0;32m/usr/local/lib/python3.7/dist-packages/pandas/util/_decorators.py\u001b[0m in \u001b[0;36mwrapper\u001b[0;34m(*args, **kwargs)\u001b[0m\n\u001b[1;32m    309\u001b[0m                     \u001b[0mstacklevel\u001b[0m\u001b[0;34m=\u001b[0m\u001b[0mstacklevel\u001b[0m\u001b[0;34m,\u001b[0m\u001b[0;34m\u001b[0m\u001b[0;34m\u001b[0m\u001b[0m\n\u001b[1;32m    310\u001b[0m                 )\n\u001b[0;32m--> 311\u001b[0;31m             \u001b[0;32mreturn\u001b[0m \u001b[0mfunc\u001b[0m\u001b[0;34m(\u001b[0m\u001b[0;34m*\u001b[0m\u001b[0margs\u001b[0m\u001b[0;34m,\u001b[0m \u001b[0;34m**\u001b[0m\u001b[0mkwargs\u001b[0m\u001b[0;34m)\u001b[0m\u001b[0;34m\u001b[0m\u001b[0;34m\u001b[0m\u001b[0m\n\u001b[0m\u001b[1;32m    312\u001b[0m \u001b[0;34m\u001b[0m\u001b[0m\n\u001b[1;32m    313\u001b[0m         \u001b[0;32mreturn\u001b[0m \u001b[0mwrapper\u001b[0m\u001b[0;34m\u001b[0m\u001b[0;34m\u001b[0m\u001b[0m\n",
            "\u001b[0;32m/usr/local/lib/python3.7/dist-packages/pandas/core/reshape/concat.py\u001b[0m in \u001b[0;36mconcat\u001b[0;34m(objs, axis, join, ignore_index, keys, levels, names, verify_integrity, sort, copy)\u001b[0m\n\u001b[1;32m    302\u001b[0m         \u001b[0mverify_integrity\u001b[0m\u001b[0;34m=\u001b[0m\u001b[0mverify_integrity\u001b[0m\u001b[0;34m,\u001b[0m\u001b[0;34m\u001b[0m\u001b[0;34m\u001b[0m\u001b[0m\n\u001b[1;32m    303\u001b[0m         \u001b[0mcopy\u001b[0m\u001b[0;34m=\u001b[0m\u001b[0mcopy\u001b[0m\u001b[0;34m,\u001b[0m\u001b[0;34m\u001b[0m\u001b[0;34m\u001b[0m\u001b[0m\n\u001b[0;32m--> 304\u001b[0;31m         \u001b[0msort\u001b[0m\u001b[0;34m=\u001b[0m\u001b[0msort\u001b[0m\u001b[0;34m,\u001b[0m\u001b[0;34m\u001b[0m\u001b[0;34m\u001b[0m\u001b[0m\n\u001b[0m\u001b[1;32m    305\u001b[0m     )\n\u001b[1;32m    306\u001b[0m \u001b[0;34m\u001b[0m\u001b[0m\n",
            "\u001b[0;32m/usr/local/lib/python3.7/dist-packages/pandas/core/reshape/concat.py\u001b[0m in \u001b[0;36m__init__\u001b[0;34m(self, objs, axis, join, keys, levels, names, ignore_index, verify_integrity, copy, sort)\u001b[0m\n\u001b[1;32m    349\u001b[0m \u001b[0;34m\u001b[0m\u001b[0m\n\u001b[1;32m    350\u001b[0m         \u001b[0;32mif\u001b[0m \u001b[0mlen\u001b[0m\u001b[0;34m(\u001b[0m\u001b[0mobjs\u001b[0m\u001b[0;34m)\u001b[0m \u001b[0;34m==\u001b[0m \u001b[0;36m0\u001b[0m\u001b[0;34m:\u001b[0m\u001b[0;34m\u001b[0m\u001b[0;34m\u001b[0m\u001b[0m\n\u001b[0;32m--> 351\u001b[0;31m             \u001b[0;32mraise\u001b[0m \u001b[0mValueError\u001b[0m\u001b[0;34m(\u001b[0m\u001b[0;34m\"No objects to concatenate\"\u001b[0m\u001b[0;34m)\u001b[0m\u001b[0;34m\u001b[0m\u001b[0;34m\u001b[0m\u001b[0m\n\u001b[0m\u001b[1;32m    352\u001b[0m \u001b[0;34m\u001b[0m\u001b[0m\n\u001b[1;32m    353\u001b[0m         \u001b[0;32mif\u001b[0m \u001b[0mkeys\u001b[0m \u001b[0;32mis\u001b[0m \u001b[0;32mNone\u001b[0m\u001b[0;34m:\u001b[0m\u001b[0;34m\u001b[0m\u001b[0;34m\u001b[0m\u001b[0m\n",
            "\u001b[0;31mValueError\u001b[0m: No objects to concatenate"
          ]
        }
      ]
    },
    {
      "cell_type": "code",
      "source": [
        "p=file.peak_fitter()\n",
        "len(p)"
      ],
      "metadata": {
        "id": "MTau1_uFqb2S",
        "outputId": "6406c543-58f7-44c2-ffd4-825e9e94a77a",
        "colab": {
          "base_uri": "https://localhost:8080/"
        }
      },
      "execution_count": 12,
      "outputs": [
        {
          "output_type": "stream",
          "name": "stderr",
          "text": [
            "/usr/local/lib/python3.7/dist-packages/pandas/core/arraylike.py:364: RuntimeWarning: overflow encountered in exp\n",
            "  result = getattr(ufunc, method)(*inputs, **kwargs)\n",
            "/usr/local/lib/python3.7/dist-packages/scipy/optimize/minpack.py:454: RuntimeWarning: Number of calls to function has reached maxfev = 1400.\n",
            "  warnings.warn(errors[info][0], RuntimeWarning)\n"
          ]
        },
        {
          "output_type": "execute_result",
          "data": {
            "text/plain": [
              "8"
            ]
          },
          "metadata": {},
          "execution_count": 12
        }
      ]
    },
    {
      "cell_type": "code",
      "source": [
        "for i "
      ],
      "metadata": {
        "id": "Nqj1JmIpkUqX",
        "outputId": "15129f1e-c057-4f6c-984d-74b0e813982f",
        "colab": {
          "base_uri": "https://localhost:8080/"
        }
      },
      "execution_count": 11,
      "outputs": [
        {
          "output_type": "execute_result",
          "data": {
            "text/plain": [
              "[0.42643563198435036,\n",
              " 4.240950754328363,\n",
              " 1.0961309569310873,\n",
              " 0.23053161237985498,\n",
              " 0.005035550960015443,\n",
              " 3.5987542313644125]"
            ]
          },
          "metadata": {},
          "execution_count": 11
        }
      ]
    },
    {
      "cell_type": "code",
      "source": [
        "def convolve(data, width):\n",
        "        data2 = data.copy()\n",
        "        data2['RATE'] = conv(np.array(data['RATE']), kernel = g1d(width), boundary = 'extend')\n",
        "        return data2"
      ],
      "metadata": {
        "id": "wyMoTM-tkf-v"
      },
      "execution_count": 13,
      "outputs": []
    },
    {
      "cell_type": "code",
      "source": [
        "data1=convolve(file.data_raw,60)"
      ],
      "metadata": {
        "id": "H6TP3hgJxUXR"
      },
      "execution_count": 16,
      "outputs": []
    },
    {
      "cell_type": "code",
      "source": [
        "def plot_portion(data):\n",
        "  if type(data) is list :\n",
        "     for i in data:\n",
        "         plt.plot(i['TIME'],i['RATE'])\n",
        "  else:\n",
        "     plt.plot(data['TIME'],data['RATE'])\n",
        "\n"
      ],
      "metadata": {
        "id": "5cl8Wnkoxtpu"
      },
      "execution_count": 19,
      "outputs": []
    },
    {
      "cell_type": "code",
      "source": [
        ""
      ],
      "metadata": {
        "id": "ADwYBZD_yRBP",
        "outputId": "8c1ac796-c76a-45a6-96fc-2ff234fde354",
        "colab": {
          "base_uri": "https://localhost:8080/",
          "height": 277
        }
      },
      "execution_count": 43,
      "outputs": [
        {
          "output_type": "display_data",
          "data": {
            "text/plain": [
              "<Figure size 432x288 with 1 Axes>"
            ],
            "image/png": "[encoded data removed]"
          },
          "metadata": {
            "needs_background": "light"
          }
        }
      ]
    },
    {
      "cell_type": "code",
      "source": [
        "data2=convolve(file.data_raw,60000)"
      ],
      "metadata": {
        "id": "7yj-3ehEyUdj"
      },
      "execution_count": 25,
      "outputs": []
    },
    {
      "cell_type": "code",
      "source": [
        ""
      ],
      "metadata": {
        "id": "v5Mz8HNPzovW",
        "outputId": "0ff8380f-d747-4f0f-bff6-ec0969f177f8",
        "colab": {
          "base_uri": "https://localhost:8080/",
          "height": 277
        }
      },
      "execution_count": 26,
      "outputs": [
        {
          "output_type": "display_data",
          "data": {
            "text/plain": [
              "<Figure size 432x288 with 1 Axes>"
            ],
            "image/png": "[encoded data removed]"
          },
          "metadata": {
            "needs_background": "light"
          }
        }
      ]
    },
    {
      "cell_type": "code",
      "source": [
        "e=p[0]['curve_params'][3:5]"
      ],
      "metadata": {
        "id": "920AJzV_zthX"
      },
      "execution_count": 34,
      "outputs": []
    },
    {
      "cell_type": "code",
      "source": [
        "f=p[0]['']"
      ],
      "metadata": {
        "id": "mnMT_QSiErGJ"
      },
      "execution_count": null,
      "outputs": []
    },
    {
      "cell_type": "code",
      "source": [
        "plt.plot(d)"
      ],
      "metadata": {
        "id": "ZLlYuIEeDcuD",
        "outputId": "b3b70d64-ae3a-422f-9515-37bf535e6485",
        "colab": {
          "base_uri": "https://localhost:8080/"
        }
      },
      "execution_count": 35,
      "outputs": [
        {
          "output_type": "execute_result",
          "data": {
            "text/plain": [
              "[0.23053161237985498, 0.005035550960015443]"
            ]
          },
          "metadata": {},
          "execution_count": 35
        }
      ]
    },
    {
      "cell_type": "code",
      "source": [
        "f=p[1]['curve_params'][3:5]\n",
        "f"
      ],
      "metadata": {
        "id": "mynTmM96D0d3",
        "outputId": "cbf85917-da93-4e86-91ec-68a1a5919057",
        "colab": {
          "base_uri": "https://localhost:8080/"
        }
      },
      "execution_count": 36,
      "outputs": [
        {
          "output_type": "execute_result",
          "data": {
            "text/plain": [
              "[0.01172585544023434, 0.029504842516117742]"
            ]
          },
          "metadata": {},
          "execution_count": 36
        }
      ]
    },
    {
      "cell_type": "code",
      "source": [
        "lc=pd.DataFrame({'time':[1,2,3,4,4,66,7,7,8],'rate':[1,2,3,4,5,6,7,8,9]})"
      ],
      "metadata": {
        "id": "UloNAKjplKah"
      },
      "execution_count": 7,
      "outputs": []
    },
    {
      "cell_type": "code",
      "source": [
        "def bgdata(data,peakwidth):\n",
        "    return data.drop(peakwidth[0]+np.array(range(peakwidth[1]-peakwidth[0])))\n",
        "    "
      ],
      "metadata": {
        "id": "P73RIBzYD8U7"
      },
      "execution_count": 78,
      "outputs": []
    },
    {
      "cell_type": "code",
      "source": [
        "def datastd(bddata,rawdata):\n",
        "  zerodata=rawdata['RATE']-bddata['RATE']\n",
        "  return np.std(zerodata['RATE'])\n",
        "def start_end(bgdata,datastd,dat,peaks,width):\n",
        "  rangetocheck=data[data['RATE']==bgdata+datastd].tolist()\n",
        "  start,end=startidx(rangetocheck,peaks,width)\n",
        "  \n",
        "def startidx(rangetocheck,peaks,width):\n",
        "  start=[]\n",
        "  end=[]\n",
        "  for i in range(len(peaks)):\n",
        "    p=math.abs(rangetocheck-peaks[i])\n",
        "    q=p.index(min(p))\n",
        "\n",
        "    if rangetocheck[q]>i:\n",
        "      if q==0:\n",
        "         end.append(rangetocheck[q])\n",
        "         start.append(width[2][i])\n",
        "      else:\n",
        "         start.append(rangetocheck[q-1])\n",
        "         end.append(rangetocheck[q])\n",
        "\n",
        "    else:\n",
        "       if q==len(rangetocheck):\n",
        "         end.append(width[3][iter])\n",
        "         start.append(rangetocheck[q])\n",
        "       else:\n",
        "         start.append(rangetocheck[q])\n",
        "         end.append(rangetocheck[q+1])\n",
        "  return start,end\n",
        "\n",
        "\n",
        "\n",
        "  \n",
        "\n",
        "  \n",
        "\n"
      ],
      "metadata": {
        "id": "LRXNtKzPp5sk"
      },
      "execution_count": null,
      "outputs": []
    },
    {
      "cell_type": "code",
      "source": [
        "\n",
        "p=lc.index[lc['rate']>6].tolist()\n"
      ],
      "metadata": {
        "id": "fuWH5kFpleMJ"
      },
      "execution_count": 19,
      "outputs": []
    },
    {
      "cell_type": "code",
      "source": [
        "p"
      ],
      "metadata": {
        "id": "FjuPsntIm_Ja",
        "outputId": "9f60f544-0b43-4a49-c0c7-19a3709e9068",
        "colab": {
          "base_uri": "https://localhost:8080/"
        }
      },
      "execution_count": 20,
      "outputs": [
        {
          "output_type": "execute_result",
          "data": {
            "text/plain": [
              "[6, 7, 8]"
            ]
          },
          "metadata": {},
          "execution_count": 20
        }
      ]
    },
    {
      "cell_type": "code",
      "source": [
        ""
      ],
      "metadata": {
        "id": "7Zk3bzcfndEO"
      },
      "execution_count": null,
      "outputs": []
    }
  ],
  "metadata": {
    "colab": {
      "name": "plotfitter.ipynb",
      "provenance": [],
      "collapsed_sections": [],
      "include_colab_link": true
    },
    "kernelspec": {
      "display_name": "Python 3",
      "name": "python3"
    },
    "language_info": {
      "name": "python"
    }
  },
  "nbformat": 4,
  "nbformat_minor": 0
}